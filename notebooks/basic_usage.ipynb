{
  "cells": [
    {
      "cell_type": "markdown",
      "metadata": {},
      "source": [
        "# Multi-Armed Bandit: Basic Usage\n",
        "\n",
        "This notebook demonstrates the basic usage of the multi-armed bandit framework.\n"
      ]
    },
    {
      "cell_type": "code",
      "execution_count": null,
      "metadata": {},
      "outputs": [],
      "source": [
        "import sys\n",
        "import numpy as np\n",
        "import matplotlib.pyplot as plt\n",
        "from pathlib import Path\n",
        "\n",
        "# Add src to path\n",
        "sys.path.append(str(Path.cwd() / \"src\"))\n",
        "\n",
        "from src.envs.bandit_env import MultiArmedBanditEnv\n",
        "from src.agents.bandit_agents import create_agent\n",
        "from src.trainer import BanditTrainer\n"
      ]
    }
  ],
  "metadata": {
    "language_info": {
      "name": "python"
    }
  },
  "nbformat": 4,
  "nbformat_minor": 2
}
